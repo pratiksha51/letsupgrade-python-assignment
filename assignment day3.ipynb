{
 "cells": [
  {
   "cell_type": "markdown",
   "metadata": {},
   "source": [
    "You all are Pilots, you want to land a plane safely, so altitude required for landing a plane is\n",
    "1000ft, it it is less than tell pilot to land the plane, or it is more than that but less than 5000ft ask\n",
    "the pilot to “come down to 1000ft”, else if it more than 5000ft ask the pilot to “go around and try\n",
    "later”\n",
    "Example : Input - 1000\n",
    "\n",
    "Output - Safe to Land\n",
    "\n",
    "Example : Input - 4500\n",
    "\n",
    "Output - Bring down to 1000\n",
    "\n",
    "Example : Input - 6500\n",
    "\n",
    "Output - Turn Around\n"
   ]
  },
  {
   "cell_type": "code",
   "execution_count": 11,
   "metadata": {},
   "outputs": [
    {
     "name": "stdout",
     "output_type": "stream",
     "text": [
      "plane is safe to land\n"
     ]
    }
   ],
   "source": [
    "x=1000\n",
    "if x==1000:\n",
    "    print(\"plane is safe to land\")\n",
    "elif x<=5000:\n",
    "    print(\"Bring down to 1000\")\n",
    "elif x>=5000:\n",
    "        print(\"turn around\")"
   ]
  },
  {
   "cell_type": "code",
   "execution_count": 12,
   "metadata": {},
   "outputs": [
    {
     "name": "stdout",
     "output_type": "stream",
     "text": [
      "Bring down to 1000\n"
     ]
    }
   ],
   "source": [
    "x=4500\n",
    "if x==1000:\n",
    "    print(\"plane is safe to land\")\n",
    "elif x<=5000:\n",
    "    print(\"Bring down to 1000\")\n",
    "elif x>=5000:\n",
    "        print(\"turn around\")"
   ]
  },
  {
   "cell_type": "code",
   "execution_count": 13,
   "metadata": {},
   "outputs": [
    {
     "name": "stdout",
     "output_type": "stream",
     "text": [
      "turn around\n"
     ]
    }
   ],
   "source": [
    "x=6500\n",
    "if x==1000:\n",
    "    print(\"plane is safe to land\")\n",
    "elif x<=5000:\n",
    "    print(\"Bring down to 1000\")\n",
    "elif x>=5000:\n",
    "        print(\"turn around\")"
   ]
  },
  {
   "cell_type": "code",
   "execution_count": 15,
   "metadata": {},
   "outputs": [
    {
     "name": "stdout",
     "output_type": "stream",
     "text": [
      "1 2 3 5 7 11 13 17 19 23 29 31 37 41 43 47 53 59 61 67 71 73 79 83 89 97 101 103 107 109 113 127 131 137 139 149 151 157 163 167 173 179 181 191 193 197 199 "
     ]
    }
   ],
   "source": [
    "#q2 Using for loop please print all the prime numbers between 1- 200 using FOR LOOP AND RANGE\n",
    "#function.\n",
    "for i in range(1,201): \n",
    "    for j in range(2,i): \n",
    "        if(i % j==0): \n",
    "            break\n",
    "    else: \n",
    "        print(i,end=\" \") "
   ]
  },
  {
   "cell_type": "code",
   "execution_count": null,
   "metadata": {},
   "outputs": [],
   "source": []
  }
 ],
 "metadata": {
  "kernelspec": {
   "display_name": "Python 3",
   "language": "python",
   "name": "python3"
  },
  "language_info": {
   "codemirror_mode": {
    "name": "ipython",
    "version": 3
   },
   "file_extension": ".py",
   "mimetype": "text/x-python",
   "name": "python",
   "nbconvert_exporter": "python",
   "pygments_lexer": "ipython3",
   "version": "3.7.6"
  }
 },
 "nbformat": 4,
 "nbformat_minor": 4
}
